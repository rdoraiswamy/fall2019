{
 "cells": [
  {
   "cell_type": "markdown",
   "metadata": {},
   "source": [
    "Before you turn this problem in, make sure everything runs as expected. First, **restart the kernel** (in the menubar, select Kernel$\\rightarrow$Restart) and then **run all cells** (in the menubar, select Cell$\\rightarrow$Run All).\n",
    "\n",
    "Make sure you fill in any place that says `YOUR CODE HERE` or \"YOUR ANSWER HERE\"."
   ]
  },
  {
   "cell_type": "markdown",
   "metadata": {
    "deletable": false,
    "editable": false,
    "nbgrader": {
     "checksum": "28e1a494ee333046f0618cdd5ebecd5e",
     "grade": false,
     "grade_id": "cell-f83bb58b03292578",
     "locked": true,
     "schema_version": 1,
     "solution": false
    }
   },
   "source": [
    "# Week5 Assignment - Cross-Validation.\n",
    "\n",
    "For this assignment, you will use a generated dataset to practice cross-validation and parameter optimization.\n",
    "\n",
    "In the first component, you will run linear regression using cross-validation.\n",
    "\n",
    "In the second component, you will run linear regression using Lasso and cross-validation.\n",
    "\n",
    "In the third component, you will run linear regression with nested cross-validation.\n",
    "\n",
    "All the exercises are designed so that the solutions will need only one or a few lines of code.\n",
    "\n",
    "Do not hesitate to contact instuctors and TA via #week5 channel on Slack if you get stuck. Join the channel first by clicking on Channels."
   ]
  },
  {
   "cell_type": "markdown",
   "metadata": {
    "deletable": false,
    "editable": false,
    "nbgrader": {
     "checksum": "188a98d7341992477c96c5d388fc4b98",
     "grade": false,
     "grade_id": "cell-f6b1a85538f737d8",
     "locked": true,
     "schema_version": 1,
     "solution": false
    }
   },
   "source": [
    "## Part A. Run linear regression with cross-validation.\n",
    "\n",
    "In this component you will run linear regression with 5-fold cross-validation.\n",
    "\n",
    "We have provided you with features X and response y. We've also provided a premade cross-validation iterator.\n",
    "\n",
    "Build a linear model and use SKLearn's cross_val_score function to assess how well your model generalizes. Save the array from cross_val_score to a variable named cv_score.\n",
    "\n",
    "When you run cross_val_score, make sure to:\n",
    "* Use the cross-validation iterator that we provide (cv_iterator)\n",
    "* Set the scoring function to \"neg_mean_squared_error\"\n"
   ]
  },
  {
   "cell_type": "code",
   "execution_count": null,
   "metadata": {
    "deletable": false,
    "nbgrader": {
     "checksum": "77ea3bb478723b4f4e10b5a3ad4f3cd9",
     "grade": false,
     "grade_id": "cell-c1e7f79ad332b8f9",
     "locked": false,
     "schema_version": 1,
     "solution": true
    }
   },
   "outputs": [],
   "source": [
    "import pandas as pd\n",
    "import numpy as np\n",
    "\n",
    "from sklearn.datasets import make_regression\n",
    "from sklearn.model_selection import KFold\n",
    "from sklearn.model_selection import cross_val_score\n",
    "from sklearn.linear_model import LinearRegression\n",
    "\n",
    "# Generate data\n",
    "X, y = make_regression(n_samples=100, n_features=100, n_informative=10, random_state=10)\n",
    "\n",
    "# Iterator setup\n",
    "cv_iterator = KFold(n_splits=5, shuffle=True, random_state=10)\n",
    "\n",
    "# YOUR CODE HERE\n",
    "pass\n",
    "# Added\n",
    "print('This is a test')"
   ]
  },
  {
   "cell_type": "code",
   "execution_count": null,
   "metadata": {
    "deletable": false,
    "editable": false,
    "nbgrader": {
     "checksum": "1cdc206f1d9c4fa22293158b6ad7bb11",
     "grade": true,
     "grade_id": "cell-fd50146eeead0c65",
     "locked": true,
     "points": 1,
     "schema_version": 1,
     "solution": false
    }
   },
   "outputs": [],
   "source": [
    "assert type(cv_score) == np.ndarray\n",
    "assert cv_score.shape == (5,)\n",
    "assert np.isclose(cv_score.mean(), -6327, atol=200)"
   ]
  },
  {
   "cell_type": "markdown",
   "metadata": {
    "deletable": false,
    "editable": false,
    "nbgrader": {
     "checksum": "a2e033b7712e18a82056967ce5d6bbe9",
     "grade": false,
     "grade_id": "cell-f1a2948810aa64f5",
     "locked": true,
     "schema_version": 1,
     "solution": false
    }
   },
   "source": [
    "## Part B. Run linear regression with Lasso and cross-validation.\n",
    "\n",
    "Similar to component (A), but this time use Lasso regression with hyperparameter alpha = 0.5.\n",
    "You can read more about Lasso regularization here: https://scikit-learn.org/stable/modules/linear_model.html#lasso\n",
    "Note the role of hyperparameter alpha.\n",
    "\n",
    "Also, this Datacamp tutorial may be helpful: https://www.datacamp.com/community/tutorials/tutorial-ridge-lasso-elastic-net\n",
    "\n",
    "Again, save the array from cross_val_score to a variable named cv_score."
   ]
  },
  {
   "cell_type": "code",
   "execution_count": null,
   "metadata": {
    "collapsed": true,
    "deletable": false,
    "nbgrader": {
     "checksum": "a586e8a6ceb05329684e07a42b3a8c5a",
     "grade": false,
     "grade_id": "cell-8d46731c6bc218b6",
     "locked": false,
     "schema_version": 1,
     "solution": true
    }
   },
   "outputs": [],
   "source": [
    "from sklearn.linear_model import Lasso\n",
    "\n",
    "cv_iterator = KFold(n_splits=5, shuffle=True, random_state=10)\n",
    "\n",
    "# YOUR CODE HERE\n",
    "pass"
   ]
  },
  {
   "cell_type": "code",
   "execution_count": null,
   "metadata": {
    "collapsed": true,
    "deletable": false,
    "editable": false,
    "nbgrader": {
     "checksum": "359bfcfd8b7ca838c9df426d3f40c503",
     "grade": true,
     "grade_id": "cell-c7edebc7b2cd1c7b",
     "locked": true,
     "points": 1,
     "schema_version": 1,
     "solution": false
    }
   },
   "outputs": [],
   "source": [
    "assert type(cv_score) == np.ndarray\n",
    "assert np.isclose(cv_score.mean(), -4, atol=1)"
   ]
  },
  {
   "cell_type": "markdown",
   "metadata": {
    "deletable": false,
    "editable": false,
    "nbgrader": {
     "checksum": "359738142c5b7411d29aa50138efa48b",
     "grade": false,
     "grade_id": "cell-89156896ac8d048c",
     "locked": true,
     "schema_version": 1,
     "solution": false
    }
   },
   "source": [
    "## Part C. Run nested cross-validation.\n",
    "\n",
    "Run nested cross-validation, while optimizing for parameter alpha. We have provided the grid for parameter alpha and the CV iterators. Save the final array from cross_val_score into a variable named cv_score.\n",
    "\n",
    "You can read more about nested cross-validation in this Tutorial: https://scikit-learn.org/stable/tutorial/statistical_inference/model_selection.html. \n",
    "\n",
    "Explore documentation for GridSearchCV https://scikit-learn.org/stable/modules/generated/sklearn.model_selection.GridSearchCV.html, in particular its arguments: esstimator, param_grid, cv. \n",
    "\n",
    "You may also need documentation for cross_val_score https://scikit-learn.org/stable/modules/generated/sklearn.model_selection.cross_val_score.html , which also has estimator and cv, in addition to the benchmark labeled dataset X with the labels in variable y.\n",
    "\n",
    "In this exercise we also want to use \"neg_mean_squared_error\" scoring for consistency."
   ]
  },
  {
   "cell_type": "code",
   "execution_count": null,
   "metadata": {
    "collapsed": true,
    "deletable": false,
    "nbgrader": {
     "checksum": "4427434edc4936958393dbcea13203dc",
     "grade": false,
     "grade_id": "cell-b3bd68da8483ec11",
     "locked": false,
     "schema_version": 1,
     "solution": true
    }
   },
   "outputs": [],
   "source": [
    "from sklearn.linear_model import Lasso\n",
    "from sklearn.model_selection import cross_val_score, KFold, GridSearchCV\n",
    "from sklearn.metrics import mean_squared_error\n",
    "\n",
    "# CV iterators:\n",
    "# we will use \"inner\" cross-validation to find optimal hyperparameters\n",
    "inner_cv_iterator = KFold(n_splits=5, shuffle=True, random_state=10)\n",
    "# the \"outer\" cross-validation iterator will give us \n",
    "outer_cv_iterator = KFold(n_splits=5, shuffle=True, random_state=10)\n",
    "\n",
    "\n",
    "# (hyper)parameter grid for Lasso()\n",
    "p_grid = {\n",
    "    \"alpha\": [0.1, 0.5, 1, 1.5]\n",
    "}\n",
    "\n",
    "# YOUR CODE HERE\n",
    "pass"
   ]
  },
  {
   "cell_type": "code",
   "execution_count": null,
   "metadata": {
    "deletable": false,
    "editable": false,
    "nbgrader": {
     "checksum": "3c6ba653cfbd47010ed73c761a8e2506",
     "grade": true,
     "grade_id": "cell-asserts",
     "locked": true,
     "points": 1,
     "schema_version": 1,
     "solution": false
    }
   },
   "outputs": [],
   "source": [
    "assert type(cv_score) == np.ndarray\n",
    "assert cv_score.shape == (5,)\n",
    "assert np.isclose(-0.167, cv_score.mean(), atol=0.05)"
   ]
  },
  {
   "cell_type": "code",
   "execution_count": null,
   "metadata": {
    "collapsed": true
   },
   "outputs": [],
   "source": []
  }
 ],
 "metadata": {
  "kernelspec": {
   "display_name": "Python 3",
   "language": "python",
   "name": "python3"
  },
  "language_info": {
   "codemirror_mode": {
    "name": "ipython",
    "version": 3
   },
   "file_extension": ".py",
   "mimetype": "text/x-python",
   "name": "python",
   "nbconvert_exporter": "python",
   "pygments_lexer": "ipython3",
   "version": "3.7.3"
  }
 },
 "nbformat": 4,
 "nbformat_minor": 2
}
